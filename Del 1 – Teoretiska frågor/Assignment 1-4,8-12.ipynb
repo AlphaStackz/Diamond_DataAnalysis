{
 "cells": [
  {
   "metadata": {},
   "cell_type": "markdown",
   "source": [
    "## 1.\n",
    "### Vad är skillnaden på en tuple och list i Python? Är den ena datatypen bättre än den andra?\n"
   ],
   "id": "41833ba244c71812"
  },
  {
   "metadata": {},
   "cell_type": "markdown",
   "source": [
    "### Svar:\n",
    "A list contains mutable values where tuples is immutable values."
   ],
   "id": "5fef41477bf27cf7"
  },
  {
   "metadata": {},
   "cell_type": "markdown",
   "source": [
    "## 2.\n",
    "### Vad är en funktion för något? Varför kan funktioner vara användbara?\n"
   ],
   "id": "235839f2dc71fa43"
  },
  {
   "metadata": {},
   "cell_type": "markdown",
   "source": [
    "### Svar:\n",
    "Instead of writing a code again and again for different outputs, a function is declared and whenever its called it will reuse the code contained inside the function. It is easier code readability & reusability (instead of using many lines of code that does the same)."
   ],
   "id": "3b23037a584c5f96"
  },
  {
   "metadata": {},
   "cell_type": "markdown",
   "source": [
    "## 3.\n",
    "### Förklara vad nedanstående begrepp, kopplat till klasser, betyder:\n"
   ],
   "id": "576faab2e24c52e7"
  },
  {
   "metadata": {},
   "cell_type": "markdown",
   "source": "### a) Instans",
   "id": "2514ae26bbf3bf7f"
  },
  {
   "metadata": {},
   "cell_type": "markdown",
   "source": [
    "### Svar:\n",
    "An instance is a specific object created from a class. It represents a concrete example of the class and has its own unique data (attributes) and behaviors (methods)."
   ],
   "id": "44b09b8fcc5c82c0"
  },
  {
   "metadata": {},
   "cell_type": "markdown",
   "source": "### b) Attribut\n",
   "id": "a1cc13b054656e75"
  },
  {
   "metadata": {},
   "cell_type": "markdown",
   "source": [
    "### Svar:\n",
    "An attribute is a variable that belongs to an instance and is usually defined in (\"__init__\") method.\n"
   ],
   "id": "f1114349cd73c35f"
  },
  {
   "metadata": {},
   "cell_type": "markdown",
   "source": "### c) Metod\n",
   "id": "984d13d01cd53b2e"
  },
  {
   "metadata": {},
   "cell_type": "markdown",
   "source": [
    "### Svar:\n",
    "A method is functions defined inside a class. It operates on an instance of the class and can access or modifythe instance's attributes via (\"__self__\") keyword."
   ],
   "id": "df3c27de47748054"
  },
  {
   "metadata": {},
   "cell_type": "markdown",
   "source": [
    "## 4.\n",
    "### Vad är Streamlit för något?\n"
   ],
   "id": "d3e1f5bc0a3c0606"
  },
  {
   "metadata": {},
   "cell_type": "markdown",
   "source": [
    "### Svar:\n",
    "Streamlit is a Python library that makes it easy to create and share interactive web applications directly from Python code. Used in machine learning and data analytics to visualize data, build dashboards and present models. Without the use of HTML, CSS & JavaScript."
   ],
   "id": "1289c29d371dbf66"
  },
  {
   "metadata": {},
   "cell_type": "markdown",
   "source": [
    "## 8.\n",
    "### Många barn tror att de blev till genom att en stork kom och lämnade dem till deras föräldrar. För att undersöka det kan vi kolla på data och det finns en graf enligt figuren nedan. Det verkar alltså finnas ett samband mellan antalet storkar och barnafödsel!? Stämmer påståendet? Använd begreppet ”kausalitet” i ditt svar."
   ],
   "id": "aeba75de0466c45e"
  },
  {
   "metadata": {},
   "cell_type": "markdown",
   "source": [
    "### Svar:\n",
    "Kausalitet innebär att någonting händer pga något annat. I detta fall kan man dra slutsatsen att antalet barn som föds är beroende av stork."
   ],
   "id": "1e58811ce22be4fa"
  },
  {
   "metadata": {},
   "cell_type": "markdown",
   "source": [
    "## 9.\n",
    "### Kim påstår att ”medelvärdet” är ett bättre mått än ”medianvärdet”. Håller du med Kalle?\n"
   ],
   "id": "11d1901c1a5e2803"
  },
  {
   "metadata": {},
   "cell_type": "markdown",
   "source": [
    "### Svar:\n",
    "Medelvärdet är ett gemensamma värde, medans medianvärdet är mittersta värdet. Jag håller någorlunda med att medelvärdet ger mer \"exakta\" värden än medianvärdet."
   ],
   "id": "6b4627733dfdc0e6"
  },
  {
   "metadata": {},
   "cell_type": "markdown",
   "source": [
    "## 10.\n",
    "### Vad används cirkeldiagram för? Ge ett exempel på vad ett företag som Spotify (eller något annat företag som du själv väljer) hade kunnat använda cirkeldiagram för."
   ],
   "id": "d1daa165b9fd0593"
  },
  {
   "metadata": {},
   "cell_type": "markdown",
   "source": [
    "### Svar:\n",
    "Cirkeldiagram används för att visa andelar av en helhet. Cirkeldiagram hjälper till att organisera och visa data som en procentandel av helheten. Spotify kan exempelvis använda Cirkeldiagram för att visa till deras kunder vilket genre (eller typ av musik) kunderna har lyssnat på."
   ],
   "id": "9bbb106f261deb4a"
  },
  {
   "metadata": {},
   "cell_type": "markdown",
   "source": [
    "## 11.\n",
    "### Vad används linjediagram för? Ge ett exempel på vad ett företag som Spotify (eller något annat företag som du själv väljer) hade kunnat använda linjediagram för."
   ],
   "id": "69c865620653438d"
  },
  {
   "metadata": {},
   "cell_type": "markdown",
   "source": [
    "### Svar:\n",
    "Linjediagram används huvudsakligen för att visualisera hur något förändras över tid, eller att jämföra förändringar över samma tidsperiod.\n",
    "Exempelvis flygbolag Norwegian Airlines, kan visa en linjediagram på __lift-to-drag ratio__ med där (y-axeln) är __drag force__ & __flight velocity__ (x-axeln)"
   ],
   "id": "c953745284eb37ef"
  },
  {
   "metadata": {},
   "cell_type": "markdown",
   "source": [
    "## 12.\n",
    "### Vad används lådagram för?"
   ],
   "id": "afd22bb022fc6138"
  },
  {
   "metadata": {},
   "cell_type": "markdown",
   "source": [
    "### Svar:\n",
    "Ett lådagram är mer detaljerad, förutom att den visar min- och max-värden så visar den även medelvärdet & övre kvartilen och nedrekvartilen.\n",
    "Lådagram används för att visualisera spridningen och fördelningen av data när man jämför intervaller."
   ],
   "id": "7395017d59832b70"
  }
 ],
 "metadata": {
  "kernelspec": {
   "display_name": "Python 3",
   "language": "python",
   "name": "python3"
  },
  "language_info": {
   "codemirror_mode": {
    "name": "ipython",
    "version": 2
   },
   "file_extension": ".py",
   "mimetype": "text/x-python",
   "name": "python",
   "nbconvert_exporter": "python",
   "pygments_lexer": "ipython2",
   "version": "2.7.6"
  }
 },
 "nbformat": 4,
 "nbformat_minor": 5
}
